{
 "cells": [
  {
   "cell_type": "markdown",
   "id": "de3ff4db",
   "metadata": {},
   "source": [
    "## Задание 1"
   ]
  },
  {
   "cell_type": "markdown",
   "id": "50c3925d",
   "metadata": {},
   "source": [
    "### На складе лежат разные фрукты в разном количестве.\n",
    "Нужно написать функцию, которая на вход принимает любое количество названий фруктов и их количество, а возвращает общее количество фруктов на складе"
   ]
  },
  {
   "cell_type": "code",
   "execution_count": 12,
   "id": "cc2bff47",
   "metadata": {},
   "outputs": [
    {
     "name": "stdout",
     "output_type": "stream",
     "text": [
      "185\n"
     ]
    }
   ],
   "source": [
    "def count_fruits(**fruits):\n",
    "    total = 0\n",
    "    for fruit, quanyity in fruits.items():\n",
    "        total += quanyity\n",
    "    return total\n",
    "print(count_fruits(apples=89, bananas=23, oranges = 73))    \n"
   ]
  },
  {
   "cell_type": "markdown",
   "id": "26fed0e2",
   "metadata": {},
   "source": [
    "## Задание 2"
   ]
  },
  {
   "cell_type": "markdown",
   "id": "d3666409",
   "metadata": {},
   "source": [
    "### Дан список с затратами на рекламу. Но в данных есть ошибки, некоторые затраты имеют отрицательную величину. Удалите такие значения из списка и посчитайте суммарные затраты\n",
    "[100, 125, -90, 345, 655, -1, 0, 200]\n",
    "Используйте list comprehensions"
   ]
  },
  {
   "cell_type": "code",
   "execution_count": 9,
   "id": "88dcd3d1",
   "metadata": {},
   "outputs": [
    {
     "data": {
      "text/plain": [
       "[100, 125, 345, 655, 0, 200]"
      ]
     },
     "execution_count": 9,
     "metadata": {},
     "output_type": "execute_result"
    }
   ],
   "source": [
    "lst = [100, 125, -90, 345, 655, -1, 0, 200] \n",
    "my_lst = [i for i in lst if i >= 0]\n",
    "my_lst"
   ]
  },
  {
   "cell_type": "code",
   "execution_count": 10,
   "id": "649346d3",
   "metadata": {},
   "outputs": [
    {
     "data": {
      "text/plain": [
       "1425"
      ]
     },
     "execution_count": 10,
     "metadata": {},
     "output_type": "execute_result"
    }
   ],
   "source": [
    "sum_list = sum(my_lst)\n",
    "sum_list"
   ]
  },
  {
   "cell_type": "code",
   "execution_count": 11,
   "id": "f539f90b",
   "metadata": {},
   "outputs": [
    {
     "name": "stdout",
     "output_type": "stream",
     "text": [
      "1425\n"
     ]
    }
   ],
   "source": [
    "#можно записать в одну строку:\n",
    "print(sum([i for i in lst if i >= 0]))"
   ]
  },
  {
   "cell_type": "markdown",
   "id": "3cfa105e",
   "metadata": {},
   "source": [
    "## Задание 3"
   ]
  },
  {
   "cell_type": "markdown",
   "id": "2710a551",
   "metadata": {},
   "source": [
    "### Даны два списка.\n",
    "Дата покупки\n",
    "['2021-09-14', '2021-12-15', '2021-09-08', '2021-12-05', '2021-10-09', '2021-09-30', '2021-12-22', '2021-11-29', '2021-12-24', '2021-11-26', '2021-10-27', '2021-12-18', '2021-11-09', '2021-11-23', '2021-09-27', '2021-10-02', '2021-12-27', '2021-09-20', '2021-12-13', '2021-11-01', '2021-11-09', '2021-12-06', '2021-12-08', '2021-10-09', '2021-10-31', '2021-09-30', '2021-11-09', '2021-12-13', '2021-10-26', '2021-12-09']\n",
    "Суммы покупок по датам\n",
    "[1270, 8413, 9028, 3703, 5739, 4095, 295, 4944, 5723, 3701, 4471, 651, 7037, 4274, 6275, 4988, 6930, 2971, 6592, 2004, 2822, 519, 3406, 2732, 5015, 2008, 316, 6333, 5700, 2887]"
   ]
  },
  {
   "cell_type": "markdown",
   "id": "2fc559f3",
   "metadata": {},
   "source": [
    "### 3.1 Найдите, какая выручка у компании в ноябре.\n",
    "Используйте list comprehensions."
   ]
  },
  {
   "cell_type": "code",
   "execution_count": 42,
   "id": "7ea5ba67",
   "metadata": {},
   "outputs": [],
   "source": [
    "dates = ['2021-09-14', '2021-12-15', '2021-09-08', '2021-12-05', '2021-10-09', '2021-09-30', '2021-12-22',\n",
    "        '2021-11-29', '2021-12-24', '2021-11-26', '2021-10-27', '2021-12-18', '2021-11-09', '2021-11-23',\n",
    "        '2021-09-27', '2021-10-02', '2021-12-27', '2021-09-20', '2021-12-13', '2021-11-01', '2021-11-09', \n",
    "        '2021-12-06', '2021-12-08', '2021-10-09', '2021-10-31', '2021-09-30', '2021-11-09', '2021-12-13', \n",
    "        '2021-10-26', '2021-12-09'] \n",
    "sum_chek = [1270, 8413, 9028, 3703, 5739, 4095, 295, 4944, 5723, 3701, 4471, 651, 7037, 4274, 6275, 4988,\n",
    "            6930, 2971, 6592, 2004, 2822, 519, 3406, 2732, 5015, 2008, 316, 6333, 5700, 2887] "
   ]
  },
  {
   "cell_type": "code",
   "execution_count": 43,
   "id": "3f226116",
   "metadata": {},
   "outputs": [
    {
     "name": "stdout",
     "output_type": "stream",
     "text": [
      "выручка компании в ноябре = 25098\n"
     ]
    }
   ],
   "source": [
    "amount_nov = sum([sum_chek[i] for i in range(len(dates)) if dates[i].startswith('2021-11')])\n",
    "print(f'выручка компании в ноябре = {amount_nov}')"
   ]
  },
  {
   "cell_type": "markdown",
   "id": "bad2b64f",
   "metadata": {},
   "source": [
    "### 3.2 Найдите выручку компании в зависимости от месяца\n",
    "Для этого напишите функцию, которая на вход принимает список с датами и список с выручкой, а на выходе словарь, где ключи - это месяцы, а значения - это выручка.\n",
    "Используйте аннотирование типов."
   ]
  },
  {
   "cell_type": "code",
   "execution_count": 65,
   "id": "6d253b96",
   "metadata": {},
   "outputs": [
    {
     "name": "stdout",
     "output_type": "stream",
     "text": [
      "{'2021-09': 25647, '2021-12': 45452, '2021-10': 28645, '2021-11': 25098}\n"
     ]
    }
   ],
   "source": [
    "from typing import Dict, List\n",
    "from datetime import datetime\n",
    "\n",
    "def month_amount(dates: list, sum_chek: list) -> dict:\n",
    "    result = {}\n",
    "    for i in range(len(dates)):\n",
    "        date = datetime.strptime(dates[i], '%Y-%m-%d')\n",
    "        month = date.strptime('%m')\n",
    "        if month in result:\n",
    "            result[month] += amount\n",
    "        else:\n",
    "            result[month] = amount\n",
    "    return result\n",
    "print(result)"
   ]
  },
  {
   "cell_type": "code",
   "execution_count": null,
   "id": "ecde84cc",
   "metadata": {},
   "outputs": [],
   "source": []
  }
 ],
 "metadata": {
  "kernelspec": {
   "display_name": "Python 3 (ipykernel)",
   "language": "python",
   "name": "python3"
  },
  "language_info": {
   "codemirror_mode": {
    "name": "ipython",
    "version": 3
   },
   "file_extension": ".py",
   "mimetype": "text/x-python",
   "name": "python",
   "nbconvert_exporter": "python",
   "pygments_lexer": "ipython3",
   "version": "3.9.13"
  }
 },
 "nbformat": 4,
 "nbformat_minor": 5
}
